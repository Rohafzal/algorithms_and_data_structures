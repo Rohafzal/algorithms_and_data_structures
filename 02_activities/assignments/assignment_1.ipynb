{
 "cells": [
  {
   "cell_type": "markdown",
   "metadata": {},
   "source": [
    "# Coding Problems\n",
    "\n",
    "## Objective\n",
    "\n",
    "This assignment aims to demonstrate how to study a data structures or algorithms question in depth to prepare for an industry coding interview. Leetcode is a popular coding practice site that many use to practice for technical interviews. Like behavioral interviews, it's important to practice and keep your skills sharp.\n",
    "\n",
    "## Group Size\n",
    "\n",
    "Please complete this individually.\n",
    "\n",
    "## Part 1:\n",
    "\n",
    "_*You will be assigned one of three problems based of your first name. Execute the code below, and that will tell you your assigned problem. Include the output as part of your submission (do not clear the output). The problems are based-off problems from Leetcode.*_\n"
   ]
  },
  {
   "cell_type": "code",
   "execution_count": 5,
   "metadata": {},
   "outputs": [
    {
     "name": "stdout",
     "output_type": "stream",
     "text": [
      "1\n"
     ]
    }
   ],
   "source": [
    "print((hash('Roha') % 3) + 1)"
   ]
  },
  {
   "cell_type": "markdown",
   "metadata": {},
   "source": [
    "<details>\n",
    "  <summary>Question 1</summary>\n",
    "\n",
    "  # Question One: Check Duplicates in Tree\n",
    "\n",
    "  Given the `root` of a binary tree, check whether it is contains a duplicate value. If a duplicate exists, return the duplicate value. If there are multiple duplicates, return the one with the closest distance to the root. If no duplicate exists, return -1.\n",
    "\n",
    "  ## Examples\n",
    "\n",
    "  ### Example 1\n",
    "\n",
    "  ![](./images/q1_ex1.png)\n",
    "\n",
    "  Input: `root = [1, 2, 2, 3, 5, 6, 7]` *What traversal method is this?*\n",
    "\n",
    "  Output: 2\n",
    "\n",
    "  ### Example 2\n",
    "\n",
    "  ![](./images/q1_ex2.png)\n",
    "\n",
    "  Input: `root = [1, 10, 2, 3, 10, 12, 12]`\n",
    "\n",
    "  Output: 10\n",
    "\n",
    "  ### Example 3\n",
    "\n",
    "  ![](./images/q1_ex3.png)\n",
    "\n",
    "  Input: `root = [10, 9, 8, 7]`\n",
    "\n",
    "  Output: -1\n",
    "\n",
    "</details>\n",
    "\n",
    "#### Starter Code for Question 1"
   ]
  },
  {
   "cell_type": "code",
   "execution_count": null,
   "metadata": {},
   "outputs": [],
   "source": [
    "# Definition for a binary tree node.\n",
    "# class TreeNode(object):\n",
    "#     def __init__(self, val = 0, left = None, right = None):\n",
    "#         self.val = val\n",
    "#         self.left = left\n",
    "#         self.right = right\n",
    "def is_duplicate(root: TreeNode) -> int:\n",
    "  # TODO"
   ]
  },
  {
   "cell_type": "markdown",
   "metadata": {},
   "source": [
    "<details>\n",
    "  <summary>Question 2</summary>\n",
    "\n",
    "  # Question Two: Path to Leaves\n",
    "\n",
    "  Given the `root` of a binary tree, return all root to leaf paths in any order.\n",
    "\n",
    "  ## Examples\n",
    "\n",
    "  ### Example 1\n",
    "\n",
    "  ![](./images/q1_ex1.png)\n",
    "\n",
    "  Input: `root = [1, 2, 2, 3, 5, 6, 7]` *What traversal method is this?*\n",
    "\n",
    "  Output: [[1, 2, 3], [1, 2, 5], [1, 2, 6], [1, 2, 7]]\n",
    "\n",
    "  ### Example 2\n",
    "\n",
    "  ![](./images/q1_ex3.png)\n",
    "\n",
    "  Input: `root = [10, 9, 7, 8]`\n",
    "\n",
    "  Output: [[10, 7], [10, 9, 8]]\n",
    "\n",
    "</details>\n",
    "\n",
    "#### Starter Code for Question 2"
   ]
  },
  {
   "cell_type": "code",
   "execution_count": null,
   "metadata": {},
   "outputs": [],
   "source": [
    "# Definition for a binary tree node.\n",
    "# class TreeNode(object):\n",
    "#     def __init__(self, val = 0, left = None, right = None):\n",
    "#         self.val = val\n",
    "#         self.left = left\n",
    "#         self.right = right\n",
    "def bt_path(root: TreeNode) -> List[List[int]]:\n",
    "  # TODO"
   ]
  },
  {
   "cell_type": "markdown",
   "metadata": {},
   "source": [
    "<details>\n",
    "  <summary>Question 3</summary>\n",
    "\n",
    "  # Question Three: Missing Number in Range\n",
    " \n",
    "  You are given a list containing `n` integers in the range `[0, n]`. Return a list of numbers that are missing from the range `[0, n]` of the array. If there is no missing number, return -1. Note, all the integers in the list may not be unique.\n",
    "  \n",
    "  ## Examples\n",
    "\n",
    "  ### Example 1\n",
    "\n",
    "  Input: `lst = [0, 2]`\n",
    "\n",
    "  Output: [1]\n",
    "\n",
    "  ### Example 2\n",
    "\n",
    "  Input: `lst = [5, 0, 1]`\n",
    "\n",
    "  Output: [2, 3, 4]\n",
    "\n",
    "  ### Example 3\n",
    "\n",
    "  Input: `lst = [6, 8, 2, 3, 5, 7, 0, 1, 10]`\n",
    "\n",
    "  Output: [4, 9]\n",
    "\n",
    "</details>\n",
    "\n",
    "#### Starter Code for Question 3\n"
   ]
  },
  {
   "cell_type": "code",
   "execution_count": null,
   "metadata": {},
   "outputs": [],
   "source": [
    "def missing_num(nums: List) -> int:\n",
    "  # TODO"
   ]
  },
  {
   "cell_type": "markdown",
   "metadata": {},
   "source": [
    "\n",
    "## Part 2:\n",
    "\n",
    "-   Paraphrase the problem in your own words\n"
   ]
  },
  {
   "cell_type": "markdown",
   "metadata": {},
   "source": [
    "# Answer\n",
    "\n",
    "The problem is to determine if a binary tree contains duplicate values. Starting from the root, we need to traverse the tree and check for duplicate values. If duplicates exist, return the value of the duplicate closest to the root (i.e., the first duplicate encountered during a level-order traversal). If there are no duplicates in the tree, return -1."
   ]
  },
  {
   "cell_type": "markdown",
   "metadata": {},
   "source": [
    "\n",
    "- In this .ipynb file, there are examples that illustrate how the code should work (the examples provided above). Create 2 new examples for the question you have been assigned, that demonstrate you understand the problem. For question 1 and 2, you don't need to create the tree demonstration, just the input and output.\n"
   ]
  },
  {
   "cell_type": "markdown",
   "metadata": {},
   "source": [
    "# Answer\n",
    "\n",
    "Example 1: \n",
    "input : [1, 7, 8, 9, 9, 12, 7, 12]\n",
    "output: 9\n",
    "\n",
    "Example 2: [2, 4, 6, 9, 0, 2]\n",
    "output: -1"
   ]
  },
  {
   "cell_type": "markdown",
   "metadata": {},
   "source": [
    "\n",
    "-   Code the solution to your assigned problem in Python (code chunk). Try to find the best time and space complexity solution!\n"
   ]
  },
  {
   "cell_type": "code",
   "execution_count": 18,
   "metadata": {},
   "outputs": [
    {
     "name": "stdout",
     "output_type": "stream",
     "text": [
      "First Duplicate: 10\n"
     ]
    }
   ],
   "source": [
    "# Definition for a binary tree node.\n",
    "class TreeNode(object):\n",
    "    def __init__(self, val=0, left=None, right=None):\n",
    "        self.val = val\n",
    "        self.left = left\n",
    "        self.right = right\n",
    "\n",
    "def is_duplicate(root: TreeNode) -> int:\n",
    "    \"\"\"\n",
    "    Finds the first duplicate value in a binary tree using BFS.\n",
    "    :param root: Root node of the binary tree\n",
    "    :return: The first duplicate value or -1 if no duplicates exist\n",
    "    \"\"\"\n",
    "    if not root:\n",
    "        return -1  # No duplicates in an empty tree\n",
    "\n",
    "    from collections import deque\n",
    "\n",
    "    # BFS queue and set to track seen values\n",
    "    queue = deque([root])\n",
    "    seen = set()\n",
    "\n",
    "    while queue:\n",
    "        node = queue.popleft()\n",
    "\n",
    "        # Check for duplicates\n",
    "        if node.val in seen:\n",
    "            return node.val\n",
    "        seen.add(node.val)\n",
    "\n",
    "        # Add left and right children to the queue\n",
    "        if node.left:\n",
    "            queue.append(node.left)\n",
    "        if node.right:\n",
    "            queue.append(node.right)\n",
    "\n",
    "    return -1  # No duplicates found\n",
    "\n",
    "# Manually construct a binary tree (no helper function)\n",
    "# Example Tree: [1, 10, 2, 3, 10, 12, 12]\n",
    "root = TreeNode(1)\n",
    "node1 = TreeNode(10)\n",
    "node2 = TreeNode(2)\n",
    "node3 = TreeNode(3)\n",
    "node4 = TreeNode(10)  # Duplicate\n",
    "node5 = TreeNode(12)\n",
    "node6 = TreeNode(12)  # Duplicate\n",
    "\n",
    "# Connect the nodes\n",
    "root.left = node1\n",
    "root.right = node2\n",
    "node1.left = node3\n",
    "node1.right = node4\n",
    "node2.left = node5\n",
    "node2.right = node6\n",
    "\n",
    "# Test the is_duplicate function\n",
    "result = is_duplicate(root)\n",
    "print(\"First Duplicate:\", result)\n"
   ]
  },
  {
   "cell_type": "markdown",
   "metadata": {},
   "source": [
    "\n",
    "-   Explain why your solution works\n"
   ]
  },
  {
   "cell_type": "markdown",
   "metadata": {},
   "source": [
    "# Answer\n",
    "\n",
    "This solution efficiently detects the first duplicate in a binary tree using Breadth-First Search (BFS) and a set for tracking seen values. BFS traverses the tree level by level, ensuring that the first duplicate closest to the root is found. Each node is processed once, and its value is checked against the seen set in O(1) time. If a duplicate is detected, it is returned immediately; otherwise, its children are added to the queue for further processing.\n",
    "\n",
    "The algorithm handles edge cases, such as empty trees or trees without duplicates, by returning -1"
   ]
  },
  {
   "cell_type": "markdown",
   "metadata": {},
   "source": [
    "\n",
    "-   Explain the problem’s time and space complexity\n"
   ]
  },
  {
   "cell_type": "markdown",
   "metadata": {},
   "source": [
    "# Answer\n",
    "\n",
    "Time Complexity:\n",
    "Tree Traversal: Each node is visited exactly once during the BFS traversal. For n nodes, the traversal takes O(n).\n",
    "\n",
    "Set Operations: Checking membership and adding elements to the seen set are O(1) on average.\n",
    "\n",
    "Queue Operations: Enqueuing and dequeuing nodes are O(1) operations.\n",
    "\n",
    "Overall Time Complexity: O(n)\n",
    "\n",
    "Space Complexity:\n",
    "Tree Storage: The tree itself is stored in memory, requiring O(n) space for nn nodes.\n",
    "\n",
    "BFS Queue: At most, the queue holds all nodes of the largest level (width of the tree). For a balanced binary tree, the maximum width is O(n/2), so the queue size is O(n) in the worst case.\n",
    "\n",
    "Seen Set: The set stores at most nn unique values, requiring O(n) space in the worst case.\n",
    "\n",
    "Overall Space Complexity: O(n)"
   ]
  },
  {
   "cell_type": "markdown",
   "metadata": {},
   "source": [
    "\n",
    "-   Explain the thinking to an alternative solution (no coding required, but a classmate reading this should be able to code it up based off your text)\n"
   ]
  },
  {
   "cell_type": "markdown",
   "metadata": {},
   "source": [
    "# Answer\n",
    "\n",
    "In this solution, we use Breadth-First Search (BFS) to find the first duplicate value in a binary tree, and we introduce a helper function to dynamically construct the binary tree from a level-order input array. This helper function makes it easier to test the algorithm with various inputs.\n",
    "Steps to Implement\n",
    "\n",
    "1. Helper Function: Tree Construction The helper function takes a level-order input list (e.g., [1, 10, 2, 3, 10, 12, 12]) and builds the binary tree dynamically.\n",
    "It uses a queue to track parent nodes and assigns left and right children in a level-order manner.\n",
    "For each element in the input: If the value is not None, create a new TreeNode and assign it as the left or right child of the current parent node.\n",
    "Enqueue the newly created child node for further processing.\n",
    "\n",
    "2. BFS for Duplicate Detection\n",
    "\n",
    "Once the tree is constructed, we use BFS to find the first duplicate value in the binary tree:\n",
    "Initialize a queue with the root node.\n",
    "Use a set to track the values of nodes already visited.\n",
    "For each node:\n",
    "Check if its value exists in the set: If yes, return the value (this is the first duplicate found). Otherwise, add the value to the set.\n",
    "Add its left and right children (if they exist) to the queue for further processing.\n",
    "If the entire tree is traversed and no duplicate is found, return -1.\n",
    "\n",
    "Why Use This Alternative?\n",
    "Dynamic Tree Construction:\n",
    "The helper function allows the binary tree to be built dynamically from level-order input, making the solution flexible and testable for various inputs.\n",
    "\n",
    "Efficiency:\n",
    "BFS ensures the first duplicate closest to the root is found in O(n) time.\n",
    "The set-based duplicate check is efficient with O(1) average-time complexity.\n",
    "It has a space complexity of O(n)\n",
    "\n",
    "Scalability: This approach works for any binary tree size and structure, as the helper function can handle dynamic input.\n",
    "\n",
    "Summary of Steps for a Classmate\n",
    "\n",
    "Write a helper function to dynamically build a binary tree from a level-order input array.\n",
    "Use BFS to traverse the tree level by level.\n",
    "Track visited node values in a set.\n",
    "Return the first duplicate value encountered or -1 if no duplicate exists.\n"
   ]
  },
  {
   "cell_type": "markdown",
   "metadata": {},
   "source": [
    "## Evaluation Criteria\n",
    "\n",
    "-   Problem is accurately stated\n",
    "\n",
    "-   Two examples are correct and easily understandable\n",
    "\n",
    "-   Correctness, time, and space complexity of the coding solution\n",
    "\n",
    "-   Clarity in explaining why the solution works, its time and space complexity\n",
    "\n",
    "-   Clarity in the proposal to the alternative solution"
   ]
  },
  {
   "cell_type": "markdown",
   "metadata": {},
   "source": [
    "## Submission Information\n",
    "\n",
    "🚨 **Please review our [Assignment Submission Guide](https://github.com/UofT-DSI/onboarding/blob/main/onboarding_documents/submissions.md)** 🚨 for detailed instructions on how to format, branch, and submit your work. Following these guidelines is crucial for your submissions to be evaluated correctly.\n",
    "\n",
    "### Submission Parameters:\n",
    "* Submission Due Date: `HH:MM AM/PM - DD/MM/YYYY`\n",
    "* The branch name for your repo should be: `assignment-1`\n",
    "* What to submit for this assignment:\n",
    "    * This Jupyter Notebook (assignment_1.ipynb) should be populated and should be the only change in your pull request.\n",
    "* What the pull request link should look like for this assignment: `https://github.com/<your_github_username>/algorithms_and_data_structures/pull/<pr_id>`\n",
    "    * Open a private window in your browser. Copy and paste the link to your pull request into the address bar. Make sure you can see your pull request properly. This helps the technical facilitator and learning support staff review your submission easily.\n",
    "\n",
    "Checklist:\n",
    "- [ ] Create a branch called `assignment-1`.\n",
    "- [ ] Ensure that the repository is public.\n",
    "- [ ] Review [the PR description guidelines](https://github.com/UofT-DSI/onboarding/blob/main/onboarding_documents/submissions.md#guidelines-for-pull-request-descriptions) and adhere to them.\n",
    "- [ ] Verify that the link is accessible in a private browser window.\n",
    "\n",
    "If you encounter any difficulties or have questions, please don't hesitate to reach out to our team via our Slack at `#cohort-3-help`. Our Technical Facilitators and Learning Support staff are here to help you navigate any challenges."
   ]
  }
 ],
 "metadata": {
  "kernelspec": {
   "display_name": "dsi_participant",
   "language": "python",
   "name": "python3"
  },
  "language_info": {
   "codemirror_mode": {
    "name": "ipython",
    "version": 3
   },
   "file_extension": ".py",
   "mimetype": "text/x-python",
   "name": "python",
   "nbconvert_exporter": "python",
   "pygments_lexer": "ipython3",
   "version": "3.9.15"
  }
 },
 "nbformat": 4,
 "nbformat_minor": 2
}
