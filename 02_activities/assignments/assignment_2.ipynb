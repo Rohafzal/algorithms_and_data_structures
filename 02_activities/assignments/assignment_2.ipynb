{
 "cells": [
  {
   "cell_type": "markdown",
   "metadata": {},
   "source": [
    "# Practice Interview\n",
    "\n",
    "## Objective\n",
    "\n",
    "_*The partner assignment aims to provide participants with the opportunity to practice coding in an interview context. You will analyze your partner's Assignment 1. Moreover, code reviews are common practice in a software development team. This assignment should give you a taste of the code review process.*_\n",
    "\n",
    "## Group Size\n",
    "\n",
    "Each group should have 2 people. You will be assigned a partner\n",
    "\n",
    "## Part 1:\n",
    "\n",
    "You and your partner must share each other's Assignment 1 submission."
   ]
  },
  {
   "cell_type": "markdown",
   "metadata": {},
   "source": [
    "\n",
    "## Part 2:\n",
    "\n",
    "Create a Jupyter Notebook, create 6 of the following headings, and complete the following for your partner's assignment 1:\n",
    "\n",
    "-   Paraphrase the problem in your own words.\n"
   ]
  },
  {
   "cell_type": "markdown",
   "metadata": {},
   "source": [
    "# Your answer here\n",
    "A list of integers within the range [0, n] is provided, where n is the largest number in the list. Missing numbers from this range must be identified and returned. If no numbers are missing, -1 should be returned. Duplicate entries in the list do not affect the results"
   ]
  },
  {
   "cell_type": "markdown",
   "metadata": {},
   "source": [
    "\n",
    "-   Create 1 new example that demonstrates you understand the problem. Trace/walkthrough 1 example that your partner made and explain it.\n"
   ]
  },
  {
   "cell_type": "markdown",
   "metadata": {},
   "source": [
    "# Your answer here\n",
    "\n",
    "Input: lst = [3, 0, 1, 4]\n",
    "Output: [2]\n",
    "\n",
    "Trace/Walkthrough:\n",
    "Determine the Range:\n",
    "\n",
    "The largest number in the list is 4, so the range is [0, 4] (i.e., 0, 1, 2, 3, 4).\n",
    "\n",
    "Identify Numbers in the Input List:\n",
    "The numbers in the input list are: 3, 0, 1, 4.\n",
    "\n",
    "Find Missing Numbers:\n",
    "Compare the range [0, 4] with the input list:\n",
    "0 is in the list.\n",
    "1 is in the list.\n",
    "2 is missing.\n",
    "3 is in the list.\n",
    "4 is in the list.\n",
    "Output the Missing Numbers:\n",
    "\n",
    "The missing number is [2].\n"
   ]
  },
  {
   "cell_type": "markdown",
   "metadata": {},
   "source": [
    "\n",
    "-   Copy the solution your partner wrote. \n"
   ]
  },
  {
   "cell_type": "code",
   "execution_count": null,
   "metadata": {},
   "outputs": [],
   "source": [
    "# Your answer here\n",
    "from typing import List\n",
    "\n",
    "def missing_num(nums: List[int]) -> List[int]:\n",
    "  # lenght of list\n",
    "  n = max(nums)\n",
    "    # Initialize cache with 0s\n",
    "  cache = [0] * (n + 1)\n",
    "\n",
    "  for num in nums:\n",
    "    if 0 <= num <= n:\n",
    "      cache[num] += 1\n",
    "\n",
    "  missing_numbers = []\n",
    "  for i in range(n + 1):\n",
    "    if cache[i] == 0:\n",
    "      missing_numbers.append(i)\n",
    "\n",
    "  return missing_numbers if missing_numbers else -1\n"
   ]
  },
  {
   "cell_type": "markdown",
   "metadata": {},
   "source": [
    "\n",
    "-   Explain why their solution works in your own words.\n"
   ]
  },
  {
   "cell_type": "markdown",
   "metadata": {},
   "source": [
    "# Your answer here\n",
    "\n",
    "This solution works because it efficiently tracks the presence of numbers within the range [0, n] using a cache array. Here's how:\n",
    "\n",
    "Range Determination: The maximum value in the list (n) defines the range [0, n].\n",
    "\n",
    "Cache Initialization: A cache array of size n+1 is initialized with zeros, where each index corresponds to a number in the range.\n",
    "\n",
    "Marking Presence: For each number in the input list, its corresponding index in the cache is incremented (if it's within the range).\n",
    "\n",
    "Identifying Missing Numbers: The cache is scanned, and indices with a value of 0 indicate the numbers that are missing from the input list.\n",
    "\n",
    "Output: The list of missing numbers is returned, or -1 if no numbers are missing.\n",
    "\n",
    "This approach works because the cache efficiently maps each number in the range to its presence in the input, avoiding expensive operations like set difference or sorting."
   ]
  },
  {
   "cell_type": "markdown",
   "metadata": {},
   "source": [
    "\n",
    "-   Explain the problem’s time and space complexity in your own words.\n",
    "\n",
    "The solution's time complexity is O(n) because it involves three main operations. First, finding the maximum value in the input list requires a single pass through the list, which takes O(n). Second, marking the presence of numbers in the cache also involves iterating through the input list, which is another O(n). Finally, identifying the missing numbers by scanning the cache array takes O(m), where m is the size of the range [0, n]. Since m≤n, this step also effectively takes O(n), resulting in an overall time complexity of O(n)\n",
    "\n",
    "The space complexity is O(n) due to the cache array, which has a size of n+1, where n is the largest number in the input list. Additionally, the missing numbers list requires extra space, but in the worst case (if all numbers are missing), it also uses O(n) space. Therefore, the total space complexity remains O(n)."
   ]
  },
  {
   "cell_type": "markdown",
   "metadata": {},
   "source": [
    "\n",
    "-   Critique your partner's solution, including explanation, and if there is anything that should be adjusted.\n"
   ]
  },
  {
   "cell_type": "markdown",
   "metadata": {},
   "source": [
    "# Your answer here\n",
    "The solution is efficient with O(n) time complexity but uses an integer-based list 'cache' that tracks frequency, which is unnecessary for this problem since only presence of an integer (present or absent) matters. This issue can be tackled by usingo a simpler boolean array. A boolean array would reduce memory usage, eliminate unnecessary increment operations, and make the code more intuitive and focused on presence checks. Additionally, edge cases like empty lists or negative numbers are already handled, but replacing the integer cache with a boolean array would make the solution cleaner, more efficient, and better suited to the problem."
   ]
  },
  {
   "cell_type": "markdown",
   "metadata": {},
   "source": [
    "\n",
    "## Part 3:\n",
    "\n",
    "Please write a 200 word reflection documenting your process from assignment 1, and your presentation and review experience with your partner at the bottom of the Jupyter Notebook under a new heading \"Reflection.\" Again, export this Notebook as pdf.\n"
   ]
  },
  {
   "cell_type": "markdown",
   "metadata": {},
   "source": [
    "The first assignment focused on finding duplicates in a binary tree, and I approached the problem using a Breadth-First Search (BFS) strategy. By traversing the tree level by level and maintaining a set to track seen values, I efficiently identified the first duplicate. This approach operated with O(n) time complexity and O(n) space complexity, ensuring optimal performance by checking for duplicates as each node was processed. Coming up with new examples to better understand the problem and striving to find a solution with the best time and space complexity helped me write the code more efficiently and confidently. Constructing the binary tree manually for testing further validated the solution and helped me grasp its behavior with different tree structures.\n",
    "\n",
    "As part of Assignment 2, I presented my code and walked my partner through the logic, explaining how BFS and the use of a set made the algorithm efficient and straightforward. During the review, I appreciated their feedback on potential edge cases, such as handling larger trees or alternative traversal techniques. Discussing my approach helped me reflect on its strengths, including its clarity and scalability, while also emphasizing the importance of clear communication in collaborative problem-solving. Overall, the process of presenting and reviewing my solution enhanced my understanding of the problem and reinforced the value of peer collaboration in improving both my code and my ability to explain solutions effectively"
   ]
  },
  {
   "cell_type": "markdown",
   "metadata": {},
   "source": [
    "### Reflection"
   ]
  },
  {
   "cell_type": "markdown",
   "metadata": {},
   "source": [
    "\n",
    "## Evaluation Criteria\n",
    "\n",
    "We are looking for the similar points as Assignment 1\n",
    "\n",
    "-   Problem is accurately stated\n",
    "\n",
    "-   New example is correct and easily understandable\n",
    "\n",
    "-   Correctness, time, and space complexity of the coding solution\n",
    "\n",
    "-   Clarity in explaining why the solution works, its time and space complexity\n",
    "\n",
    "-   Quality of critique of your partner's assignment, if necessary\n"
   ]
  },
  {
   "cell_type": "markdown",
   "metadata": {},
   "source": [
    "## Submission Information\n",
    "\n",
    "🚨 **Please review our [Assignment Submission Guide](https://github.com/UofT-DSI/onboarding/blob/main/onboarding_documents/submissions.md)** 🚨 for detailed instructions on how to format, branch, and submit your work. Following these guidelines is crucial for your submissions to be evaluated correctly.\n",
    "\n",
    "### Submission Parameters:\n",
    "* Submission Due Date: `HH:MM AM/PM - DD/MM/YYYY`\n",
    "* The branch name for your repo should be: `assignment-2`\n",
    "* What to submit for this assignment:\n",
    "    * This Jupyter Notebook (assignment_2.ipynb) should be populated and should be the only change in your pull request.\n",
    "* What the pull request link should look like for this assignment: `https://github.com/<your_github_username>/algorithms_and_data_structures/pull/<pr_id>`\n",
    "    * Open a private window in your browser. Copy and paste the link to your pull request into the address bar. Make sure you can see your pull request properly. This helps the technical facilitator and learning support staff review your submission easily.\n",
    "\n",
    "Checklist:\n",
    "- [ ] Created a branch with the correct naming convention.\n",
    "- [ ] Ensured that the repository is public.\n",
    "- [ ] Reviewed the PR description guidelines and adhered to them.\n",
    "- [ ] Verify that the link is accessible in a private browser window.\n",
    "\n",
    "If you encounter any difficulties or have questions, please don't hesitate to reach out to our team via our Slack at `#cohort-3-help`. Our Technical Facilitators and Learning Support staff are here to help you navigate any challenges.\n"
   ]
  }
 ],
 "metadata": {
  "kernelspec": {
   "display_name": "dsi_participant",
   "language": "python",
   "name": "python3"
  },
  "language_info": {
   "codemirror_mode": {
    "name": "ipython",
    "version": 3
   },
   "file_extension": ".py",
   "mimetype": "text/x-python",
   "name": "python",
   "nbconvert_exporter": "python",
   "pygments_lexer": "ipython3",
   "version": "3.9.15"
  }
 },
 "nbformat": 4,
 "nbformat_minor": 2
}
